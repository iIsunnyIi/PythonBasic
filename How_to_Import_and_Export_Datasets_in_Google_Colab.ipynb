{
  "nbformat": 4,
  "nbformat_minor": 0,
  "metadata": {
    "colab": {
      "name": "How to Import and Export Datasets in Google Colab",
      "provenance": [],
      "authorship_tag": "ABX9TyN+H8RZ2pHFI8Xk+y29Ox4w",
      "include_colab_link": true
    },
    "kernelspec": {
      "name": "python3",
      "display_name": "Python 3"
    }
  },
  "cells": [
    {
      "cell_type": "markdown",
      "metadata": {
        "id": "view-in-github",
        "colab_type": "text"
      },
      "source": [
        "<a href=\"https://colab.research.google.com/github/iIsunnyIi/PythonBasic/blob/main/How_to_Import_and_Export_Datasets_in_Google_Colab.ipynb\" target=\"_parent\"><img src=\"https://colab.research.google.com/assets/colab-badge.svg\" alt=\"Open In Colab\"/></a>"
      ]
    },
    {
      "cell_type": "markdown",
      "metadata": {
        "id": "xEj7oS1UzbHd"
      },
      "source": [
        "How to Import and Export Datasets in Google Colab"
      ]
    },
    {
      "cell_type": "markdown",
      "metadata": {
        "id": "ELBHJbCk1QZg"
      },
      "source": [
        "#Importing data from Google Drive"
      ]
    },
    {
      "cell_type": "code",
      "metadata": {
        "id": "gbQk66xgzsHI"
      },
      "source": [
        "#Mounting Google Drive\r\n",
        "#Left side Folder icon you can click on mount drive icon\r\n",
        "#Step 1 To connect Google Drive (GDrive) with Colab, execute the following two lines of code in Colab:\r\n",
        "\r\n",
        "\r\n",
        "from google.colab import drive\r\n",
        "drive.mount(\"/content/gdrive\")\r\n",
        "\r\n",
        "\r\n",
        "#Running the shell will return a URL link and ask for an authorization code:\r\n",
        "#Step 2 Follow to the mentioned link, sign in Google account, and copy the authorization code by clicking at highlighted spot:\r\n",
        "#Paste the authorization code in the shell and finally, Google Drive will be mounted at /content/gdrive.\r\n"
      ],
      "execution_count": null,
      "outputs": []
    },
    {
      "cell_type": "code",
      "metadata": {
        "id": "q_b-LVpx09wS"
      },
      "source": [
        "#For instance, we have a dataset (sample.csv) in /My Drive/sample data folder in GDrive.\r\n",
        "#Executing the following two lines of code will import the data into Colab:\r\n",
        "\r\n",
        "import pandas as pd\r\n",
        "pd.read_csv('/content/gdrive/My Drive/sample data/sample.csv')"
      ],
      "execution_count": null,
      "outputs": []
    },
    {
      "cell_type": "markdown",
      "metadata": {
        "id": "AnmRI1Uc1LoA"
      },
      "source": [
        "#Importing and downloading data in the local system"
      ]
    },
    {
      "cell_type": "code",
      "metadata": {
        "id": "vbZN0k9Q1Xc8"
      },
      "source": [
        "#Step1 Run the following two lines of code to import data from the local system.\r\n",
        "\r\n",
        "from google.colab import files\r\n",
        "uploaded = files.upload()\r\n",
        "\r\n",
        "#Step 2 Browsing directories in the local system, we can upload data into Colab:\r\n",
        "#Finally, we can read the data using a library like Pandas:\r\n",
        "\r\n",
        "pd.read_csv(\"sample.csv\")\r\n"
      ],
      "execution_count": null,
      "outputs": []
    },
    {
      "cell_type": "markdown",
      "metadata": {
        "id": "f_m4zJIs0wk0"
      },
      "source": [
        "#Downloading Data into Google Drive and Local System"
      ]
    },
    {
      "cell_type": "code",
      "metadata": {
        "id": "bfRs83ZH161p"
      },
      "source": [
        "#We can easily download data into local directories by executing the following two lines of codes given the dataset is already in CSV format:\r\n",
        "\r\n",
        "from google.colab import files\r\n",
        "files.download('sample.csv')\r\n",
        "\r\n",
        "#A pandas dataframe can be downloaded executing the following code. \r\n",
        "#Given that the name of the dataframe is “sample”, then to save the file in Google Drive using one line code:\r\n",
        "\r\n",
        "sample.to_csv('sample.csv')\r\n",
        "\r\n",
        "#Finally, to download in the local drive execute the following single line code:\r\n",
        "\r\n",
        "files.download('sample.csv')\r\n",
        "\r\n"
      ],
      "execution_count": null,
      "outputs": []
    }
  ]
}