{
  "nbformat": 4,
  "nbformat_minor": 0,
  "metadata": {
    "colab": {
      "name": "How to fetch Kaggle Datasets into Google Colab",
      "provenance": [],
      "authorship_tag": "ABX9TyNV+gRumdj7iKvNwpVHYrVH",
      "include_colab_link": true
    },
    "kernelspec": {
      "name": "python3",
      "display_name": "Python 3"
    }
  },
  "cells": [
    {
      "cell_type": "markdown",
      "metadata": {
        "id": "view-in-github",
        "colab_type": "text"
      },
      "source": [
        "<a href=\"https://colab.research.google.com/github/iIsunnyIi/PythonBasic/blob/main/How_to_fetch_Kaggle_Datasets_into_Google_Colab.ipynb\" target=\"_parent\"><img src=\"https://colab.research.google.com/assets/colab-badge.svg\" alt=\"Open In Colab\"/></a>"
      ]
    },
    {
      "cell_type": "markdown",
      "metadata": {
        "id": "R-q3BvNsjA5d"
      },
      "source": [
        "You must have a Google as well as a Kaggle account to proceed with the below steps.\r\n",
        "###Step 1:Get you Kaggle API Token\r\n",
        "Go to Your Account and click on Create New API Token.\r\n",
        "A file named kaggle.json will get downloaded containing your username and token key\r\n",
        "###Step 2: Uploading kaggle.json into Google Drive\r\n",
        "Create a folder named kaggle where we will be storing our Kaggle datasets\r\n",
        "Upload your kaggle.json file into Kaggle folder"
      ]
    },
    {
      "cell_type": "code",
      "metadata": {
        "colab": {
          "base_uri": "https://localhost:8080/"
        },
        "id": "h3VnptPov1Vf",
        "outputId": "835c3836-7046-4b1f-ad1d-96e33cc30ebc"
      },
      "source": [
        "#Mount the drive to colab notebook\r\n",
        "from google.colab import drive\r\n",
        "drive.mount('/content/drive')"
      ],
      "execution_count": 1,
      "outputs": [
        {
          "output_type": "stream",
          "text": [
            "Mounted at /content/drive\n"
          ],
          "name": "stdout"
        }
      ]
    },
    {
      "cell_type": "code",
      "metadata": {
        "id": "HYThd5YLijZh"
      },
      "source": [
        "import os\r\n",
        "os.environ['KAGGLE_CONFIG_DIR'] = \"/content/drive/MyDrive/kaggle\"\r\n",
        "# /content/drive/MyDrive/kaggle is the path where kaggle.json is present in the Google Drive"
      ],
      "execution_count": 4,
      "outputs": []
    },
    {
      "cell_type": "code",
      "metadata": {
        "colab": {
          "base_uri": "https://localhost:8080/"
        },
        "id": "m8LJLC0nikC7",
        "outputId": "b7f6814b-57f9-4016-a8b4-47e39b83a972"
      },
      "source": [
        "#changing the working directory\r\n",
        "%cd/content/drive/MyDrive/kaggle"
      ],
      "execution_count": 6,
      "outputs": [
        {
          "output_type": "stream",
          "text": [
            "/content/drive/MyDrive/kaggle\n"
          ],
          "name": "stdout"
        }
      ]
    },
    {
      "cell_type": "code",
      "metadata": {
        "colab": {
          "base_uri": "https://localhost:8080/"
        },
        "id": "q4V-Ur1HinZd",
        "outputId": "1f409cad-e189-44e1-f002-d85473d0250b"
      },
      "source": [
        "#Check the present working directory using pwd command\r\n",
        "!pwd"
      ],
      "execution_count": 7,
      "outputs": [
        {
          "output_type": "stream",
          "text": [
            "/content/drive/MyDrive/kaggle\n"
          ],
          "name": "stdout"
        }
      ]
    },
    {
      "cell_type": "code",
      "metadata": {
        "id": "6bna3oWHipzh"
      },
      "source": [
        "#Go to kaggle and copy the API Command to download the dataset\r\n",
        "#Your API Command will look like “kaggle datasets download -d START-UMD/gtd”\r\n",
        "#kaggle datasets download -d START-UMD/gtd is mine\r\n",
        "#Run the following code using ! :\r\n",
        "!kaggle datasets download -d START-UMD/gtd"
      ],
      "execution_count": null,
      "outputs": []
    },
    {
      "cell_type": "code",
      "metadata": {
        "colab": {
          "base_uri": "https://localhost:8080/"
        },
        "id": "43Bwal_ZiueX",
        "outputId": "99bd8f47-6426-408d-c0d6-0d76eb05909b"
      },
      "source": [
        "#You can check the content in your directory using ls command as follows:\r\n",
        "!ls"
      ],
      "execution_count": 9,
      "outputs": [
        {
          "output_type": "stream",
          "text": [
            "globalterrorismdb_0718dist.csv\tgtd.zip  kaggle.json\n"
          ],
          "name": "stdout"
        }
      ]
    },
    {
      "cell_type": "code",
      "metadata": {
        "id": "6XGxL4F5iwQh"
      },
      "source": [
        "#unzipping the zip files and deleting the zip files\r\n",
        "#Use the unzip and rm command\r\n",
        "!unzip \\*.zip  && rm *.zip"
      ],
      "execution_count": null,
      "outputs": []
    },
    {
      "cell_type": "code",
      "metadata": {
        "id": "8T3itvFQix4o"
      },
      "source": [
        "#That’s all folks …Now you can use the extracted .csv files with ease directly from your Google Drive."
      ],
      "execution_count": null,
      "outputs": []
    }
  ]
}